{
 "cells": [
  {
   "cell_type": "markdown",
   "id": "e993b932",
   "metadata": {},
   "source": [
    "# Introduction to Loops in Python\n",
    "\n",
    "Loops are used in programming to execute a block of code repeatedly until a certain condition is met. They are essential for automating repetitive tasks and iterating over data structures. Let's explore the two main types of loops in Python:\n",
    "\n",
    "#### 1. 'while' Loop:\n",
    "\n",
    "The `while` loop executes a block of code repeatedly as long as the specified condition is true.\n",
    "\n",
    "```python\n",
    "# Example 1:\n",
    "# Print numbers from 1 to 5\n",
    "num = 1\n",
    "while num <= 5:\n",
    "    print(num)\n",
    "    num += 1\n",
    "\n",
    "# Example 2:\n",
    "# Calculate the sum of numbers from 1 to 10\n",
    "num = 1\n",
    "sum = 0\n",
    "while num <= 10:\n",
    "    sum += num\n",
    "    num += 1\n",
    "print(\"Sum of numbers from 1 to 10:\", sum)\n",
    "\n",
    "# Example 3:\n",
    "# Countdown from 5 to 1\n",
    "num = 5\n",
    "while num > 0:\n",
    "    print(num)\n",
    "    num -= 1\n",
    "```\n",
    "\n",
    "#### 2. 'for' Loop:\n",
    "\n",
    "The `for` loop iterates over a sequence (such as a list, tuple, or string) and executes a block of code for each element in the sequence.\n",
    "\n",
    "```python\n",
    "# Example 1:\n",
    "# Print each element in a list\n",
    "fruits = [\"apple\", \"banana\", \"cherry\"]\n",
    "for fruit in fruits:\n",
    "    print(fruit)\n",
    "\n",
    "# Example 2:\n",
    "# Calculate the total length of characters in a list of strings\n",
    "fruits = [\"apple\", \"banana\", \"cherry\"]\n",
    "total_length = 0\n",
    "for fruit in fruits:\n",
    "    total_length += len(fruit)\n",
    "print(\"Total length of characters:\", total_length)\n",
    "\n",
    "# Example 3:\n",
    "# Iterate over each character in a string\n",
    "word = \"Python\"\n",
    "for char in word:\n",
    "    print(char)\n",
    "```\n",
    "\n",
    "### Conclusion:\n",
    "\n",
    "Loops are powerful constructs in Python for automating repetitive tasks and iterating over data structures. They provide flexibility and efficiency in programming, allowing developers to write concise and effective code."
   ]
  },
  {
   "cell_type": "code",
   "execution_count": 1,
   "id": "b5d512ff-55e0-4992-93c8-61c0721f107c",
   "metadata": {},
   "outputs": [],
   "source": [
    "from abc import ABC,abstractmethod"
   ]
  }
 ],
 "metadata": {
  "kernelspec": {
   "display_name": "Python 3 (ipykernel)",
   "language": "python",
   "name": "python3"
  },
  "language_info": {
   "codemirror_mode": {
    "name": "ipython",
    "version": 3
   },
   "file_extension": ".py",
   "mimetype": "text/x-python",
   "name": "python",
   "nbconvert_exporter": "python",
   "pygments_lexer": "ipython3",
   "version": "3.11.7"
  }
 },
 "nbformat": 4,
 "nbformat_minor": 5
}
