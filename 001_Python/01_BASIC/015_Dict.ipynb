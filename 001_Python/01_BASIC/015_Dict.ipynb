{
 "cells": [
  {
   "cell_type": "markdown",
   "id": "4284b182-3f58-4c6a-a437-1db06bb6551e",
   "metadata": {},
   "source": [
    "# WAP to count the occurence of each character in given string. Your string will only have alphabets and spaces in that."
   ]
  },
  {
   "cell_type": "code",
   "execution_count": 1,
   "id": "bcc34c3c-996c-4c15-a9ed-2813233d1e9a",
   "metadata": {
    "tags": []
   },
   "outputs": [],
   "source": [
    "str1 = \"aaacc bb dd\""
   ]
  },
  {
   "cell_type": "code",
   "execution_count": null,
   "id": "104c0ea7-bbc2-42ee-99cd-ccdc38481892",
   "metadata": {},
   "outputs": [],
   "source": []
  },
  {
   "cell_type": "code",
   "execution_count": null,
   "id": "c2b718e4-7ae5-4b4b-ac69-deb82ff21eb7",
   "metadata": {},
   "outputs": [],
   "source": [
    "a -> 3\n",
    "c -> 2\n",
    "b -> 2\n",
    "d -> 2\n",
    "  -> 2"
   ]
  },
  {
   "cell_type": "code",
   "execution_count": 2,
   "id": "7e814a0c-3cfd-49dc-8db6-12c8026d0951",
   "metadata": {
    "tags": []
   },
   "outputs": [
    {
     "name": "stdout",
     "output_type": "stream",
     "text": [
      "3\n",
      "2\n",
      "2\n",
      "2\n",
      "2\n"
     ]
    }
   ],
   "source": [
    "s = \"aaacc bb dd\"\n",
    "a = []\n",
    "for i in s:\n",
    "    if i not in a:\n",
    "        a.append(i)\n",
    "for i in a:\n",
    "    print(s.count(i))"
   ]
  },
  {
   "cell_type": "code",
   "execution_count": 4,
   "id": "c341e288-9029-4230-abec-b546cd9d90e0",
   "metadata": {
    "tags": []
   },
   "outputs": [
    {
     "data": {
      "text/plain": [
       "[0, 0, 0, 0, 0, 0, 0, 0, 0, 0, 0, 0, 0, 0, 0, 0, 0, 0, 0, 0, 0, 0, 0, 0, 0, 0]"
      ]
     },
     "execution_count": 4,
     "metadata": {},
     "output_type": "execute_result"
    }
   ],
   "source": [
    "charList = [0 for i in range(0,26)]\n",
    "charList"
   ]
  },
  {
   "cell_type": "code",
   "execution_count": 55,
   "id": "5d93e2e7-4408-4285-83a3-82e6d39cb185",
   "metadata": {
    "tags": []
   },
   "outputs": [
    {
     "data": {
      "text/plain": [
       "97"
      ]
     },
     "execution_count": 55,
     "metadata": {},
     "output_type": "execute_result"
    }
   ],
   "source": [
    "ord('a')"
   ]
  },
  {
   "cell_type": "code",
   "execution_count": null,
   "id": "9f547657-da59-4843-b8e2-11ed505a00fe",
   "metadata": {},
   "outputs": [],
   "source": []
  },
  {
   "cell_type": "code",
   "execution_count": 59,
   "id": "8b056193-0dda-429b-84a8-d8f175bfeb0c",
   "metadata": {
    "tags": []
   },
   "outputs": [
    {
     "name": "stdout",
     "output_type": "stream",
     "text": [
      "a 97\n",
      "a 97\n",
      "a 97\n",
      "c 99\n",
      "c 99\n",
      "b 98\n",
      "b 98\n",
      "d 100\n",
      "d 100\n"
     ]
    }
   ],
   "source": [
    "s = \"aaacc bb dd\"\n",
    "for char in s:\n",
    "\n",
    "    if(char.isalpha()):\n",
    "        print( char + \" \" + str(ord(char)))\n",
    "        charList[ord(char) - 97] +=1 "
   ]
  },
  {
   "cell_type": "code",
   "execution_count": 7,
   "id": "88559560-424b-41e9-8150-800d269fbb2a",
   "metadata": {
    "tags": []
   },
   "outputs": [
    {
     "data": {
      "text/plain": [
       "[3, 2, 2, 2, 0, 0, 0, 0, 0, 0, 0, 0, 0, 0, 0, 0, 0, 0, 0, 0, 0, 0, 0, 0, 0, 0]"
      ]
     },
     "execution_count": 7,
     "metadata": {},
     "output_type": "execute_result"
    }
   ],
   "source": [
    "charList"
   ]
  },
  {
   "cell_type": "code",
   "execution_count": 64,
   "id": "7ee76f7f-3662-4bef-9792-3b3462a32362",
   "metadata": {
    "tags": []
   },
   "outputs": [
    {
     "data": {
      "text/plain": [
       "'d'"
      ]
     },
     "execution_count": 64,
     "metadata": {},
     "output_type": "execute_result"
    }
   ],
   "source": [
    "chr(100)"
   ]
  },
  {
   "cell_type": "code",
   "execution_count": 14,
   "id": "140b2a75-698d-4f06-9490-32a5175f67c9",
   "metadata": {
    "tags": []
   },
   "outputs": [
    {
     "name": "stdout",
     "output_type": "stream",
     "text": [
      "a 3\n",
      "b 2\n",
      "c 2\n",
      "d 2\n",
      "e 0\n",
      "f 0\n",
      "g 0\n",
      "h 0\n",
      "i 0\n",
      "j 0\n",
      "k 0\n",
      "l 0\n",
      "m 0\n",
      "n 0\n",
      "o 0\n",
      "p 0\n",
      "q 0\n",
      "r 0\n",
      "s 0\n",
      "t 0\n",
      "u 0\n",
      "v 0\n",
      "w 0\n",
      "x 0\n",
      "y 0\n",
      "z 0\n"
     ]
    }
   ],
   "source": [
    "\n",
    "\n",
    "for i in range(0,26):\n",
    "    print( str(chr(97+i)) + ' ' + str(charList[i] ) )"
   ]
  },
  {
   "cell_type": "code",
   "execution_count": 17,
   "id": "d4c06a12-f38d-4860-b2d9-d8f23cc9239d",
   "metadata": {
    "tags": []
   },
   "outputs": [],
   "source": [
    "list1=[]\n",
    "tuple1=()\n",
    "set1={}\n",
    "str1=\"\""
   ]
  },
  {
   "cell_type": "code",
   "execution_count": null,
   "id": "35589b76-eea7-4245-bb83-d862967d5539",
   "metadata": {},
   "outputs": [],
   "source": []
  },
  {
   "cell_type": "code",
   "execution_count": 16,
   "id": "3c39c79d-1b86-47bc-b31b-9132eb718d33",
   "metadata": {
    "tags": []
   },
   "outputs": [
    {
     "ename": "KeyboardInterrupt",
     "evalue": "",
     "output_type": "error",
     "traceback": [
      "\u001b[0;31m---------------------------------------------------------------------------\u001b[0m",
      "\u001b[0;31mKeyboardInterrupt\u001b[0m                         Traceback (most recent call last)",
      "Cell \u001b[0;32mIn[16], line 1\u001b[0m\n\u001b[0;32m----> 1\u001b[0m l2 \u001b[38;5;241m=\u001b[39m [\u001b[38;5;241m0\u001b[39m \u001b[38;5;28;01mfor\u001b[39;00m i \u001b[38;5;129;01min\u001b[39;00m \u001b[38;5;28mrange\u001b[39m(\u001b[38;5;241m0\u001b[39m,\u001b[38;5;241m1000000000\u001b[39m)]\n",
      "Cell \u001b[0;32mIn[16], line 1\u001b[0m, in \u001b[0;36m<listcomp>\u001b[0;34m(.0)\u001b[0m\n\u001b[0;32m----> 1\u001b[0m l2 \u001b[38;5;241m=\u001b[39m [\u001b[38;5;241m0\u001b[39m \u001b[38;5;28;01mfor\u001b[39;00m i \u001b[38;5;129;01min\u001b[39;00m \u001b[38;5;28mrange\u001b[39m(\u001b[38;5;241m0\u001b[39m,\u001b[38;5;241m1000000000\u001b[39m)]\n",
      "\u001b[0;31mKeyboardInterrupt\u001b[0m: "
     ]
    }
   ],
   "source": []
  },
  {
   "cell_type": "code",
   "execution_count": null,
   "id": "cc5291e9-2b2c-47c7-bcd7-a6b9004c477d",
   "metadata": {},
   "outputs": [],
   "source": []
  },
  {
   "cell_type": "code",
   "execution_count": 18,
   "id": "d5ecccb7-6e5a-4218-a4d0-8ce26d730b21",
   "metadata": {
    "tags": []
   },
   "outputs": [],
   "source": [
    "d = { \"key1\" : 1,\n",
    "     \"key2\":2}"
   ]
  },
  {
   "cell_type": "code",
   "execution_count": 19,
   "id": "dbd4d265-8b70-4b13-9e97-80d71ca52d61",
   "metadata": {
    "tags": []
   },
   "outputs": [
    {
     "data": {
      "text/plain": [
       "{'key1': 1, 'key2': 2}"
      ]
     },
     "execution_count": 19,
     "metadata": {},
     "output_type": "execute_result"
    }
   ],
   "source": [
    "d"
   ]
  },
  {
   "cell_type": "code",
   "execution_count": 20,
   "id": "c7e22c89-ce6a-4e5c-9cea-0beaadc72d99",
   "metadata": {
    "tags": []
   },
   "outputs": [
    {
     "ename": "KeyError",
     "evalue": "0",
     "output_type": "error",
     "traceback": [
      "\u001b[0;31m---------------------------------------------------------------------------\u001b[0m",
      "\u001b[0;31mKeyError\u001b[0m                                  Traceback (most recent call last)",
      "Cell \u001b[0;32mIn[20], line 1\u001b[0m\n\u001b[0;32m----> 1\u001b[0m d[\u001b[38;5;241m0\u001b[39m]\n",
      "\u001b[0;31mKeyError\u001b[0m: 0"
     ]
    }
   ],
   "source": [
    "d[0]"
   ]
  },
  {
   "cell_type": "code",
   "execution_count": 21,
   "id": "e72f355e-eb7d-4d15-b33e-dc7049be67af",
   "metadata": {
    "tags": []
   },
   "outputs": [
    {
     "data": {
      "text/plain": [
       "1"
      ]
     },
     "execution_count": 21,
     "metadata": {},
     "output_type": "execute_result"
    }
   ],
   "source": [
    "d['key1']"
   ]
  },
  {
   "cell_type": "code",
   "execution_count": 22,
   "id": "d4cee702-5412-4a6b-a94d-127b7b36d197",
   "metadata": {
    "tags": []
   },
   "outputs": [
    {
     "data": {
      "text/plain": [
       "dict"
      ]
     },
     "execution_count": 22,
     "metadata": {},
     "output_type": "execute_result"
    }
   ],
   "source": [
    "type(d)"
   ]
  },
  {
   "cell_type": "code",
   "execution_count": 23,
   "id": "9bdb5bca-5f6b-47c4-a172-ed791c4b10b1",
   "metadata": {
    "tags": []
   },
   "outputs": [],
   "source": [
    "d['key1'] = \"this is my new value\""
   ]
  },
  {
   "cell_type": "code",
   "execution_count": 24,
   "id": "0642878e-da47-4360-b4f9-1f5b4087fb75",
   "metadata": {
    "tags": []
   },
   "outputs": [
    {
     "data": {
      "text/plain": [
       "'this is my new value'"
      ]
     },
     "execution_count": 24,
     "metadata": {},
     "output_type": "execute_result"
    }
   ],
   "source": [
    "d['key1']"
   ]
  },
  {
   "cell_type": "code",
   "execution_count": null,
   "id": "ef61e9fe-cc79-41ae-aced-cb4b7cde5fb2",
   "metadata": {},
   "outputs": [],
   "source": []
  },
  {
   "cell_type": "code",
   "execution_count": 26,
   "id": "13288246-72cd-4b7f-8da7-ac03996eb4f4",
   "metadata": {
    "tags": []
   },
   "outputs": [],
   "source": [
    "d['key2'] = (1,2)"
   ]
  },
  {
   "cell_type": "code",
   "execution_count": 27,
   "id": "ff5dc29c-a8a7-4686-8b3f-e92413c1dbda",
   "metadata": {
    "tags": []
   },
   "outputs": [
    {
     "data": {
      "text/plain": [
       "(1, 2)"
      ]
     },
     "execution_count": 27,
     "metadata": {},
     "output_type": "execute_result"
    }
   ],
   "source": [
    "d['key2']"
   ]
  },
  {
   "cell_type": "code",
   "execution_count": 28,
   "id": "5c7acec5-59e7-445d-b38f-e6cedcc410a0",
   "metadata": {
    "tags": []
   },
   "outputs": [
    {
     "data": {
      "text/plain": [
       "2"
      ]
     },
     "execution_count": 28,
     "metadata": {},
     "output_type": "execute_result"
    }
   ],
   "source": [
    "len(d)"
   ]
  },
  {
   "cell_type": "code",
   "execution_count": 29,
   "id": "7e565a1c-39db-47bf-a4e5-f17e4d0173cd",
   "metadata": {
    "tags": []
   },
   "outputs": [],
   "source": [
    "d1 = {1:\"one\",\n",
    "      2:\"two\",\n",
    "      3:\"three\",\n",
    "      1000:\"one thousand\"}"
   ]
  },
  {
   "cell_type": "code",
   "execution_count": 30,
   "id": "db9de102-d144-494b-a148-c243947aabbc",
   "metadata": {
    "tags": []
   },
   "outputs": [
    {
     "data": {
      "text/plain": [
       "{1: 'one', 2: 'two', 3: 'three', 1000: 'one thousand'}"
      ]
     },
     "execution_count": 30,
     "metadata": {},
     "output_type": "execute_result"
    }
   ],
   "source": [
    "d1"
   ]
  },
  {
   "cell_type": "code",
   "execution_count": 31,
   "id": "ceb06f12-29fe-4b92-a4c8-b25b6530d089",
   "metadata": {
    "tags": []
   },
   "outputs": [
    {
     "data": {
      "text/plain": [
       "'one'"
      ]
     },
     "execution_count": 31,
     "metadata": {},
     "output_type": "execute_result"
    }
   ],
   "source": [
    "d1[1]"
   ]
  },
  {
   "cell_type": "code",
   "execution_count": 32,
   "id": "b3aa5fba-5c84-41b4-8b12-8754571050b1",
   "metadata": {
    "tags": []
   },
   "outputs": [
    {
     "ename": "KeyError",
     "evalue": "0",
     "output_type": "error",
     "traceback": [
      "\u001b[0;31m---------------------------------------------------------------------------\u001b[0m",
      "\u001b[0;31mKeyError\u001b[0m                                  Traceback (most recent call last)",
      "Cell \u001b[0;32mIn[32], line 1\u001b[0m\n\u001b[0;32m----> 1\u001b[0m d1[\u001b[38;5;241m0\u001b[39m]\n",
      "\u001b[0;31mKeyError\u001b[0m: 0"
     ]
    }
   ],
   "source": [
    "d1[0]"
   ]
  },
  {
   "cell_type": "code",
   "execution_count": 33,
   "id": "51c0c352-17d7-46b8-889c-3744ac6675b8",
   "metadata": {
    "tags": []
   },
   "outputs": [
    {
     "data": {
      "text/plain": [
       "'three'"
      ]
     },
     "execution_count": 33,
     "metadata": {},
     "output_type": "execute_result"
    }
   ],
   "source": [
    "d1[3]"
   ]
  },
  {
   "cell_type": "code",
   "execution_count": 34,
   "id": "a38e02b3-ddb1-42f7-90ef-92ca89b18680",
   "metadata": {
    "tags": []
   },
   "outputs": [
    {
     "ename": "KeyError",
     "evalue": "4",
     "output_type": "error",
     "traceback": [
      "\u001b[0;31m---------------------------------------------------------------------------\u001b[0m",
      "\u001b[0;31mKeyError\u001b[0m                                  Traceback (most recent call last)",
      "Cell \u001b[0;32mIn[34], line 1\u001b[0m\n\u001b[0;32m----> 1\u001b[0m d1[\u001b[38;5;241m4\u001b[39m]\n",
      "\u001b[0;31mKeyError\u001b[0m: 4"
     ]
    }
   ],
   "source": [
    "d1[4]"
   ]
  },
  {
   "cell_type": "markdown",
   "id": "8103ddf6-a26d-40e9-bff3-92c2d635d667",
   "metadata": {
    "tags": []
   },
   "source": [
    "# Looping in dict"
   ]
  },
  {
   "cell_type": "code",
   "execution_count": null,
   "id": "5f07a5f5-957d-4dc3-be60-49c86848d202",
   "metadata": {},
   "outputs": [],
   "source": []
  },
  {
   "cell_type": "code",
   "execution_count": 37,
   "id": "eee836ff-4b71-4810-ac99-0ed3c7e565a7",
   "metadata": {
    "tags": []
   },
   "outputs": [
    {
     "name": "stdout",
     "output_type": "stream",
     "text": [
      "1\n",
      "2\n",
      "3\n",
      "1000\n"
     ]
    }
   ],
   "source": [
    "\n",
    "\n",
    "for i in d1:\n",
    "    print(i)\n",
    "    \n",
    "    \n",
    "# By Default we iterate over keys"
   ]
  },
  {
   "cell_type": "code",
   "execution_count": 38,
   "id": "4501e5da-5d7d-47cc-b267-447455681957",
   "metadata": {
    "tags": []
   },
   "outputs": [
    {
     "name": "stdout",
     "output_type": "stream",
     "text": [
      "one\n",
      "two\n",
      "three\n",
      "one thousand\n"
     ]
    }
   ],
   "source": [
    "# iterate on values\n",
    "for i in d1.values():\n",
    "    print(i)"
   ]
  },
  {
   "cell_type": "code",
   "execution_count": 39,
   "id": "385d4f84-7800-4e06-9d83-906e044ffd61",
   "metadata": {
    "tags": []
   },
   "outputs": [
    {
     "name": "stdout",
     "output_type": "stream",
     "text": [
      "1\n",
      "2\n",
      "3\n",
      "1000\n"
     ]
    }
   ],
   "source": [
    "# iterate on keys\n",
    "for i in d1.keys():\n",
    "    print(i)"
   ]
  },
  {
   "cell_type": "code",
   "execution_count": 40,
   "id": "6d6a6d19-7ca0-4d81-a2ed-7c16ff297eed",
   "metadata": {
    "tags": []
   },
   "outputs": [
    {
     "name": "stdout",
     "output_type": "stream",
     "text": [
      "(1, 'one')\n",
      "(2, 'two')\n",
      "(3, 'three')\n",
      "(1000, 'one thousand')\n"
     ]
    }
   ],
   "source": [
    "# iterate on values\n",
    "for i in d1.items():\n",
    "    print(i)"
   ]
  },
  {
   "cell_type": "code",
   "execution_count": 41,
   "id": "b1b4af14-c5a3-4b2f-b2d9-ba208838f1e1",
   "metadata": {
    "tags": []
   },
   "outputs": [
    {
     "name": "stdout",
     "output_type": "stream",
     "text": [
      "1 - one\n",
      "2 - two\n",
      "3 - three\n",
      "1000 - one thousand\n"
     ]
    }
   ],
   "source": [
    "for key,value in d1.items():\n",
    "    print(f\"{key} - {value}\")"
   ]
  },
  {
   "cell_type": "code",
   "execution_count": 43,
   "id": "3b4b5153-8fef-480d-ac27-62c402c07c1e",
   "metadata": {
    "tags": []
   },
   "outputs": [],
   "source": [
    "# update \n",
    "\n",
    "d1[1] = \"this is a new value\"\n"
   ]
  },
  {
   "cell_type": "code",
   "execution_count": 44,
   "id": "7a493bdf-f0e2-4df7-881d-eac87b8967cb",
   "metadata": {
    "tags": []
   },
   "outputs": [],
   "source": [
    "d1.update({1:\"newvalue\"})"
   ]
  },
  {
   "cell_type": "code",
   "execution_count": 45,
   "id": "01b5c8e0-0e37-43b0-9735-db4a42dfbd1f",
   "metadata": {
    "tags": []
   },
   "outputs": [
    {
     "data": {
      "text/plain": [
       "{1: 'newvalue', 2: 'two', 3: 'three', 1000: 'one thousand'}"
      ]
     },
     "execution_count": 45,
     "metadata": {},
     "output_type": "execute_result"
    }
   ],
   "source": [
    "d1"
   ]
  },
  {
   "cell_type": "code",
   "execution_count": 47,
   "id": "db362477-511b-4ea1-8a8f-9862e49b8ea6",
   "metadata": {
    "tags": []
   },
   "outputs": [
    {
     "data": {
      "text/plain": [
       "{1: 'newvalue', 2: 'two', 3: 'three', 1000: 'one thousand', 0: 'newvalue'}"
      ]
     },
     "execution_count": 47,
     "metadata": {},
     "output_type": "execute_result"
    }
   ],
   "source": [
    "d1.update({0:\"newvalue\"})\n",
    "d1"
   ]
  },
  {
   "cell_type": "code",
   "execution_count": 49,
   "id": "2eabf5dd-d126-4cff-8880-7b91794879d3",
   "metadata": {
    "tags": []
   },
   "outputs": [
    {
     "data": {
      "text/plain": [
       "{1: 'newvalue',\n",
       " 2: 'two',\n",
       " 3: 'three',\n",
       " 1000: 'one thousand',\n",
       " 0: 'newvalue',\n",
       " 5: 'five'}"
      ]
     },
     "execution_count": 49,
     "metadata": {},
     "output_type": "execute_result"
    }
   ],
   "source": [
    "d1[5] = \"five\"\n",
    "d1"
   ]
  },
  {
   "cell_type": "code",
   "execution_count": 51,
   "id": "5a2b4818-4558-431f-a854-a2adb447710c",
   "metadata": {
    "tags": []
   },
   "outputs": [],
   "source": [
    "d1[1] = [\"new\",\"old\"]"
   ]
  },
  {
   "cell_type": "code",
   "execution_count": null,
   "id": "34a06667-d0e3-4b62-ba2e-d896197fe9b4",
   "metadata": {},
   "outputs": [],
   "source": [
    "# Update or Insert : Upsert\n",
    "\n"
   ]
  },
  {
   "cell_type": "code",
   "execution_count": 52,
   "id": "e19b466c-9458-4da6-a3b2-fccfb37cd8f9",
   "metadata": {
    "tags": []
   },
   "outputs": [
    {
     "data": {
      "text/plain": [
       "['new', 'old']"
      ]
     },
     "execution_count": 52,
     "metadata": {},
     "output_type": "execute_result"
    }
   ],
   "source": [
    "d1.get(1)"
   ]
  },
  {
   "cell_type": "code",
   "execution_count": 53,
   "id": "6eb46660-2145-498f-8dc1-aae4d8cfabcf",
   "metadata": {
    "tags": []
   },
   "outputs": [],
   "source": [
    "d1.get(1000000)"
   ]
  },
  {
   "cell_type": "code",
   "execution_count": 54,
   "id": "98c2bf41-b103-43d8-88b3-05b8c3f4793a",
   "metadata": {
    "tags": []
   },
   "outputs": [
    {
     "data": {
      "text/plain": [
       "{1: ['new', 'old'],\n",
       " 2: 'two',\n",
       " 3: 'three',\n",
       " 1000: 'one thousand',\n",
       " 0: 'newvalue',\n",
       " 5: 'five'}"
      ]
     },
     "execution_count": 54,
     "metadata": {},
     "output_type": "execute_result"
    }
   ],
   "source": [
    "d1"
   ]
  },
  {
   "cell_type": "markdown",
   "id": "f8aff192-48e2-49ae-ace2-61207fa3c671",
   "metadata": {},
   "source": [
    "# Methods in Dictionary "
   ]
  },
  {
   "cell_type": "markdown",
   "id": "24cb8282-3c3a-42d8-ad8b-c8cc971b411a",
   "metadata": {
    "tags": []
   },
   "source": [
    "1.  clear()\n",
    "2. copy()\n",
    "3. get()\n",
    "4. keys()\n",
    "5. values()\n",
    "6. items()\n",
    "7. update()\n",
    "8. pop()\n",
    "9. popitem()"
   ]
  },
  {
   "cell_type": "markdown",
   "id": "efaf55b3-e3aa-4e22-934a-51d6d03a2ff9",
   "metadata": {},
   "source": [
    "as per dictionary example, same word can have different meanings so it somewhat suggested a key doesn't need to unique?"
   ]
  },
  {
   "cell_type": "code",
   "execution_count": 66,
   "id": "5d8d7322-22a1-45ab-b70a-d86a647e62ed",
   "metadata": {
    "tags": []
   },
   "outputs": [
    {
     "data": {
      "text/plain": [
       "4433264512"
      ]
     },
     "execution_count": 66,
     "metadata": {},
     "output_type": "execute_result"
    }
   ],
   "source": [
    "l1 = [[1,2],[3,4]]\n",
    "id(l1)"
   ]
  },
  {
   "cell_type": "code",
   "execution_count": 67,
   "id": "38c9fcf3-9ab3-423d-a6d6-022ceaea0530",
   "metadata": {
    "tags": []
   },
   "outputs": [],
   "source": [
    "l2 = l1.copy()"
   ]
  },
  {
   "cell_type": "code",
   "execution_count": 68,
   "id": "93812f66-bbd2-450e-9825-3a8af951ec67",
   "metadata": {
    "tags": []
   },
   "outputs": [
    {
     "data": {
      "text/plain": [
       "[[1, 2], [3, 4]]"
      ]
     },
     "execution_count": 68,
     "metadata": {},
     "output_type": "execute_result"
    }
   ],
   "source": [
    "l2"
   ]
  },
  {
   "cell_type": "code",
   "execution_count": 72,
   "id": "ef2b5bc3-da67-4792-be52-bcbff1d5b9b7",
   "metadata": {
    "tags": []
   },
   "outputs": [
    {
     "name": "stdout",
     "output_type": "stream",
     "text": [
      "4431435968\n",
      "4433260672\n"
     ]
    }
   ],
   "source": [
    "for i in l1:\n",
    "    print( str(id(i)))"
   ]
  },
  {
   "cell_type": "code",
   "execution_count": 74,
   "id": "6fd88910-78c1-4b61-a192-5069c6c275ec",
   "metadata": {
    "tags": []
   },
   "outputs": [
    {
     "name": "stdout",
     "output_type": "stream",
     "text": [
      "4431435968\n",
      "4433260672\n"
     ]
    }
   ],
   "source": [
    "for j in l2:\n",
    "    print( str(id(j)))"
   ]
  },
  {
   "cell_type": "code",
   "execution_count": 75,
   "id": "cff2098b-0725-4c8f-8b16-b6ecc4d005a9",
   "metadata": {
    "tags": []
   },
   "outputs": [
    {
     "data": {
      "text/plain": [
       "4433875328"
      ]
     },
     "execution_count": 75,
     "metadata": {},
     "output_type": "execute_result"
    }
   ],
   "source": [
    "id(l2)"
   ]
  },
  {
   "cell_type": "code",
   "execution_count": 76,
   "id": "f5bf9189-f136-42ed-8d7a-eba64b561855",
   "metadata": {
    "tags": []
   },
   "outputs": [
    {
     "data": {
      "text/plain": [
       "4433264512"
      ]
     },
     "execution_count": 76,
     "metadata": {},
     "output_type": "execute_result"
    }
   ],
   "source": [
    "id(l1)"
   ]
  },
  {
   "cell_type": "code",
   "execution_count": 77,
   "id": "23f73168-0f70-4d63-b775-827d341c4de7",
   "metadata": {
    "tags": []
   },
   "outputs": [],
   "source": [
    "del(l1)"
   ]
  },
  {
   "cell_type": "code",
   "execution_count": 78,
   "id": "10c4158d-7bbe-40e7-adc3-a4ae25b04eeb",
   "metadata": {
    "tags": []
   },
   "outputs": [
    {
     "ename": "NameError",
     "evalue": "name 'l1' is not defined",
     "output_type": "error",
     "traceback": [
      "\u001b[0;31m---------------------------------------------------------------------------\u001b[0m",
      "\u001b[0;31mNameError\u001b[0m                                 Traceback (most recent call last)",
      "Cell \u001b[0;32mIn[78], line 1\u001b[0m\n\u001b[0;32m----> 1\u001b[0m l1\n",
      "\u001b[0;31mNameError\u001b[0m: name 'l1' is not defined"
     ]
    }
   ],
   "source": [
    "l1\n"
   ]
  },
  {
   "cell_type": "code",
   "execution_count": 79,
   "id": "84f90678-725c-4753-a339-5c7c32cea0d0",
   "metadata": {
    "tags": []
   },
   "outputs": [
    {
     "data": {
      "text/plain": [
       "[[1, 2], [3, 4]]"
      ]
     },
     "execution_count": 79,
     "metadata": {},
     "output_type": "execute_result"
    }
   ],
   "source": [
    "l2"
   ]
  },
  {
   "cell_type": "code",
   "execution_count": null,
   "id": "1379529c-fbb5-40ee-9caf-68744352c17e",
   "metadata": {},
   "outputs": [],
   "source": []
  },
  {
   "cell_type": "code",
   "execution_count": 80,
   "id": "7338bfe1-3587-46ee-8ab6-3503a057a8a5",
   "metadata": {
    "tags": []
   },
   "outputs": [],
   "source": [
    "l3 = l2"
   ]
  },
  {
   "cell_type": "code",
   "execution_count": 81,
   "id": "8847dd0f-6c41-4e06-89f8-38523be4008a",
   "metadata": {
    "tags": []
   },
   "outputs": [
    {
     "data": {
      "text/plain": [
       "4433875328"
      ]
     },
     "execution_count": 81,
     "metadata": {},
     "output_type": "execute_result"
    }
   ],
   "source": [
    "id(l3)"
   ]
  },
  {
   "cell_type": "code",
   "execution_count": 82,
   "id": "26ff759d-1c64-4c2f-af76-ef719d44328c",
   "metadata": {
    "tags": []
   },
   "outputs": [
    {
     "data": {
      "text/plain": [
       "4433875328"
      ]
     },
     "execution_count": 82,
     "metadata": {},
     "output_type": "execute_result"
    }
   ],
   "source": [
    "id(l2)"
   ]
  },
  {
   "cell_type": "code",
   "execution_count": 85,
   "id": "89e1b9cc-ac00-4b07-b020-bafe78dbe66f",
   "metadata": {
    "tags": []
   },
   "outputs": [
    {
     "ename": "NameError",
     "evalue": "name 'l3' is not defined",
     "output_type": "error",
     "traceback": [
      "\u001b[0;31m---------------------------------------------------------------------------\u001b[0m",
      "\u001b[0;31mNameError\u001b[0m                                 Traceback (most recent call last)",
      "Cell \u001b[0;32mIn[85], line 1\u001b[0m\n\u001b[0;32m----> 1\u001b[0m \u001b[38;5;28;01mdel\u001b[39;00m(l3)\n",
      "\u001b[0;31mNameError\u001b[0m: name 'l3' is not defined"
     ]
    }
   ],
   "source": [
    "del(l3)"
   ]
  },
  {
   "cell_type": "code",
   "execution_count": 86,
   "id": "2d936304-ab8e-4dd2-9e06-96ff1884322c",
   "metadata": {
    "tags": []
   },
   "outputs": [
    {
     "ename": "NameError",
     "evalue": "name 'l3' is not defined",
     "output_type": "error",
     "traceback": [
      "\u001b[0;31m---------------------------------------------------------------------------\u001b[0m",
      "\u001b[0;31mNameError\u001b[0m                                 Traceback (most recent call last)",
      "Cell \u001b[0;32mIn[86], line 1\u001b[0m\n\u001b[0;32m----> 1\u001b[0m l3\n",
      "\u001b[0;31mNameError\u001b[0m: name 'l3' is not defined"
     ]
    }
   ],
   "source": [
    "l3"
   ]
  },
  {
   "cell_type": "code",
   "execution_count": 87,
   "id": "a50d3712-85d1-4173-a40f-d067ef976686",
   "metadata": {
    "tags": []
   },
   "outputs": [
    {
     "data": {
      "text/plain": [
       "[[1, 2], [3, 4]]"
      ]
     },
     "execution_count": 87,
     "metadata": {},
     "output_type": "execute_result"
    }
   ],
   "source": [
    "l2"
   ]
  },
  {
   "cell_type": "code",
   "execution_count": 88,
   "id": "4f954813-954b-4caf-bbc5-97e8e0fe984b",
   "metadata": {
    "tags": []
   },
   "outputs": [
    {
     "name": "stdout",
     "output_type": "stream",
     "text": [
      "4431435968\n",
      "4433260672\n"
     ]
    }
   ],
   "source": [
    "for i in l2:\n",
    "    print(id(i))"
   ]
  },
  {
   "cell_type": "code",
   "execution_count": 90,
   "id": "223b17d1-30d5-42bd-9919-8b6b8bfb302b",
   "metadata": {
    "tags": []
   },
   "outputs": [],
   "source": [
    "l3 = l2.copy()\n",
    "l4 = []\n",
    "\n",
    "for elem in l3:\n",
    "    l4.append(elem.copy())"
   ]
  },
  {
   "cell_type": "code",
   "execution_count": 91,
   "id": "89578b2b-f5d0-40ea-af6e-5af0b6e1b0f3",
   "metadata": {
    "tags": []
   },
   "outputs": [
    {
     "name": "stdout",
     "output_type": "stream",
     "text": [
      "4463368448\n",
      "4462382080\n"
     ]
    }
   ],
   "source": [
    "for i in l4:\n",
    "    print(id(i))"
   ]
  },
  {
   "cell_type": "code",
   "execution_count": 92,
   "id": "07eadcb0-5afa-4b37-9cd6-25fbddacc44d",
   "metadata": {
    "tags": []
   },
   "outputs": [
    {
     "name": "stdout",
     "output_type": "stream",
     "text": [
      "4431435968\n",
      "4433260672\n"
     ]
    }
   ],
   "source": [
    "for i in l3:\n",
    "    print(id(i))"
   ]
  },
  {
   "cell_type": "code",
   "execution_count": 93,
   "id": "f741e1af-280c-4ee7-80dd-a82ed4ceb67b",
   "metadata": {
    "tags": []
   },
   "outputs": [
    {
     "name": "stdout",
     "output_type": "stream",
     "text": [
      "[1, 2]\n",
      "[3, 4]\n"
     ]
    }
   ],
   "source": [
    "for i in l4:\n",
    "    print((i))"
   ]
  },
  {
   "cell_type": "code",
   "execution_count": 94,
   "id": "32928f50-be53-4a40-aece-3045124442d2",
   "metadata": {
    "tags": []
   },
   "outputs": [
    {
     "name": "stdout",
     "output_type": "stream",
     "text": [
      "[1, 2]\n",
      "[3, 4]\n"
     ]
    }
   ],
   "source": [
    "for i in l3:\n",
    "    print((i))"
   ]
  },
  {
   "cell_type": "code",
   "execution_count": null,
   "id": "066595dd-cd15-408e-9612-0f48dea29e8c",
   "metadata": {},
   "outputs": [],
   "source": []
  },
  {
   "cell_type": "code",
   "execution_count": 95,
   "id": "b63c7c62-0a40-42b4-b982-87a960488146",
   "metadata": {
    "tags": []
   },
   "outputs": [],
   "source": [
    "a = 2\n",
    "b =2 \n"
   ]
  },
  {
   "cell_type": "code",
   "execution_count": 96,
   "id": "8f100e59-4ffc-4370-bd5d-17d7562ecab2",
   "metadata": {
    "tags": []
   },
   "outputs": [
    {
     "data": {
      "text/plain": [
       "4372227320"
      ]
     },
     "execution_count": 96,
     "metadata": {},
     "output_type": "execute_result"
    }
   ],
   "source": [
    "id(a)"
   ]
  },
  {
   "cell_type": "code",
   "execution_count": 97,
   "id": "e5f0309d-9d87-40d1-8223-a0603622e7fd",
   "metadata": {
    "tags": []
   },
   "outputs": [
    {
     "data": {
      "text/plain": [
       "4372227320"
      ]
     },
     "execution_count": 97,
     "metadata": {},
     "output_type": "execute_result"
    }
   ],
   "source": [
    "id(b)"
   ]
  },
  {
   "cell_type": "code",
   "execution_count": 100,
   "id": "d3dd07af-f27b-48b0-885f-d0667c38537d",
   "metadata": {
    "tags": []
   },
   "outputs": [],
   "source": [
    "t1 = (1,2,3,4,5,6)"
   ]
  },
  {
   "cell_type": "code",
   "execution_count": 101,
   "id": "42e988fb-5007-4458-94d5-5b53f875f33e",
   "metadata": {
    "tags": []
   },
   "outputs": [],
   "source": [
    "t2 = t1[0:3]"
   ]
  },
  {
   "cell_type": "code",
   "execution_count": 107,
   "id": "4bea6614-f0e9-4086-895a-aec817951ccf",
   "metadata": {
    "tags": []
   },
   "outputs": [],
   "source": [
    "t1 = [i for i in range(1,5)]"
   ]
  },
  {
   "cell_type": "code",
   "execution_count": 108,
   "id": "d1b14ee8-78c2-42ff-8e10-6cd3e018f0f1",
   "metadata": {
    "tags": []
   },
   "outputs": [
    {
     "data": {
      "text/plain": [
       "[1, 2, 3, 4]"
      ]
     },
     "execution_count": 108,
     "metadata": {},
     "output_type": "execute_result"
    }
   ],
   "source": [
    "t1"
   ]
  },
  {
   "cell_type": "code",
   "execution_count": 110,
   "id": "68f72743-f4bb-4185-8081-3507f164c603",
   "metadata": {
    "tags": []
   },
   "outputs": [],
   "source": [
    "t3 = (j for j in range(2,5))"
   ]
  },
  {
   "cell_type": "code",
   "execution_count": 112,
   "id": "f205d50e-c860-42ef-aba5-005ad32f1de3",
   "metadata": {
    "tags": []
   },
   "outputs": [
    {
     "data": {
      "text/plain": [
       "(2, 3, 4)"
      ]
     },
     "execution_count": 112,
     "metadata": {},
     "output_type": "execute_result"
    }
   ],
   "source": [
    "tuple(t3)"
   ]
  },
  {
   "cell_type": "code",
   "execution_count": 114,
   "id": "93c386a9-1e4d-45f3-9bb0-25a299204c8c",
   "metadata": {},
   "outputs": [],
   "source": [
    "l1 = [ [1,2,3] for i in range(1,3)]"
   ]
  },
  {
   "cell_type": "code",
   "execution_count": 117,
   "id": "c2ca88f2-6be1-470e-bec1-1573ab30ba96",
   "metadata": {},
   "outputs": [
    {
     "data": {
      "text/plain": [
       "3"
      ]
     },
     "execution_count": 117,
     "metadata": {},
     "output_type": "execute_result"
    }
   ],
   "source": []
  },
  {
   "cell_type": "code",
   "execution_count": null,
   "id": "8f7630c0-26d8-432b-b708-dd94790f149a",
   "metadata": {},
   "outputs": [],
   "source": []
  },
  {
   "cell_type": "code",
   "execution_count": 119,
   "id": "4863bfb6-9fe8-41e2-982d-18bc0492d82d",
   "metadata": {
    "tags": []
   },
   "outputs": [],
   "source": [
    "delhiD = { \"weather\" : \"hot\",\n",
    "          \"distance\" : \"200Km\",\n",
    "          \"speciality\" : \"capital\"}\n",
    "\n",
    "nestedDict = { \"delhi\" : delhiD}"
   ]
  },
  {
   "cell_type": "code",
   "execution_count": 120,
   "id": "248ec9ab-336c-467e-a068-ce3875c6bc41",
   "metadata": {
    "tags": []
   },
   "outputs": [
    {
     "data": {
      "text/plain": [
       "{'delhi': {'weather': 'hot', 'distance': '200Km', 'speciality': 'capital'}}"
      ]
     },
     "execution_count": 120,
     "metadata": {},
     "output_type": "execute_result"
    }
   ],
   "source": [
    "nestedDict\n"
   ]
  },
  {
   "cell_type": "code",
   "execution_count": 122,
   "id": "ba89e6c0-ef99-454f-b6d7-0c7577e5eeb3",
   "metadata": {
    "tags": []
   },
   "outputs": [
    {
     "data": {
      "text/plain": [
       "'hot'"
      ]
     },
     "execution_count": 122,
     "metadata": {},
     "output_type": "execute_result"
    }
   ],
   "source": [
    "nestedDict['delhi']['weather']"
   ]
  }
 ],
 "metadata": {
  "kernelspec": {
   "display_name": "Python 3 (ipykernel)",
   "language": "python",
   "name": "python3"
  },
  "language_info": {
   "codemirror_mode": {
    "name": "ipython",
    "version": 3
   },
   "file_extension": ".py",
   "mimetype": "text/x-python",
   "name": "python",
   "nbconvert_exporter": "python",
   "pygments_lexer": "ipython3",
   "version": "3.11.5"
  }
 },
 "nbformat": 4,
 "nbformat_minor": 5
}
