{
 "cells": [
  {
   "cell_type": "code",
   "execution_count": 1,
   "id": "c0744880-00a6-438b-a0c9-b7fce67f162e",
   "metadata": {},
   "outputs": [],
   "source": [
    "str1 = \"\""
   ]
  },
  {
   "cell_type": "code",
   "execution_count": 2,
   "id": "16e5b387-0759-43d5-98ba-8241cb8a2d1f",
   "metadata": {
    "tags": []
   },
   "outputs": [
    {
     "data": {
      "text/plain": [
       "''"
      ]
     },
     "execution_count": 2,
     "metadata": {},
     "output_type": "execute_result"
    }
   ],
   "source": [
    "str1"
   ]
  },
  {
   "cell_type": "code",
   "execution_count": 3,
   "id": "734d94aa-5a52-4a3e-913c-f7eb5d9f7e8c",
   "metadata": {
    "tags": []
   },
   "outputs": [
    {
     "data": {
      "text/plain": [
       "str"
      ]
     },
     "execution_count": 3,
     "metadata": {},
     "output_type": "execute_result"
    }
   ],
   "source": [
    "type(str1)"
   ]
  },
  {
   "cell_type": "code",
   "execution_count": 4,
   "id": "24d430b3-eb1e-460e-8961-332fbbc45294",
   "metadata": {
    "tags": []
   },
   "outputs": [
    {
     "data": {
      "text/plain": [
       "str"
      ]
     },
     "execution_count": 4,
     "metadata": {},
     "output_type": "execute_result"
    }
   ],
   "source": [
    "str2 = \"a\"\n",
    "type(str2)"
   ]
  },
  {
   "cell_type": "code",
   "execution_count": 5,
   "id": "431a7731-eefb-4eb4-a086-6c7b9897b5ef",
   "metadata": {
    "tags": []
   },
   "outputs": [],
   "source": [
    "str3 = \"PYTHON\""
   ]
  },
  {
   "cell_type": "code",
   "execution_count": 6,
   "id": "c18cedca-b203-41e8-8c93-876cb3bc46ed",
   "metadata": {
    "tags": []
   },
   "outputs": [
    {
     "data": {
      "text/plain": [
       "'P'"
      ]
     },
     "execution_count": 6,
     "metadata": {},
     "output_type": "execute_result"
    }
   ],
   "source": [
    "str3[0]"
   ]
  },
  {
   "cell_type": "code",
   "execution_count": 7,
   "id": "78667d28-98f5-4703-a725-5068c32ef34c",
   "metadata": {
    "tags": []
   },
   "outputs": [
    {
     "data": {
      "text/plain": [
       "'PYT'"
      ]
     },
     "execution_count": 7,
     "metadata": {},
     "output_type": "execute_result"
    }
   ],
   "source": [
    "str3[0:3]"
   ]
  },
  {
   "cell_type": "code",
   "execution_count": 8,
   "id": "94490370-2863-4c27-a3c2-06176ab8638a",
   "metadata": {
    "tags": []
   },
   "outputs": [
    {
     "data": {
      "text/plain": [
       "'PYTHON123'"
      ]
     },
     "execution_count": 8,
     "metadata": {},
     "output_type": "execute_result"
    }
   ],
   "source": [
    "str3 + \"123\""
   ]
  },
  {
   "cell_type": "markdown",
   "id": "0f49f8ac-86d0-4ce6-a48b-85fa178cd889",
   "metadata": {},
   "source": [
    "# membership operartor"
   ]
  },
  {
   "cell_type": "code",
   "execution_count": null,
   "id": "f0c400ed-bddb-4d0f-866b-7237e998b7cd",
   "metadata": {},
   "outputs": [],
   "source": []
  },
  {
   "cell_type": "code",
   "execution_count": 9,
   "id": "5ef174bb-84aa-41c9-a3f9-b3fc9bf9caed",
   "metadata": {
    "tags": []
   },
   "outputs": [
    {
     "data": {
      "text/plain": [
       "False"
      ]
     },
     "execution_count": 9,
     "metadata": {},
     "output_type": "execute_result"
    }
   ],
   "source": [
    "'p' in str3"
   ]
  },
  {
   "cell_type": "code",
   "execution_count": 10,
   "id": "edfbbf7a-3246-4613-aa11-b77880ad9ec7",
   "metadata": {
    "tags": []
   },
   "outputs": [
    {
     "data": {
      "text/plain": [
       "False"
      ]
     },
     "execution_count": 10,
     "metadata": {},
     "output_type": "execute_result"
    }
   ],
   "source": [
    "\"123\" in str3"
   ]
  },
  {
   "cell_type": "code",
   "execution_count": 11,
   "id": "c6e3b427-40e7-4539-8403-f3ea22e81744",
   "metadata": {
    "tags": []
   },
   "outputs": [
    {
     "data": {
      "text/plain": [
       "True"
      ]
     },
     "execution_count": 11,
     "metadata": {},
     "output_type": "execute_result"
    }
   ],
   "source": [
    "\"PYT\" in str3"
   ]
  },
  {
   "cell_type": "code",
   "execution_count": null,
   "id": "519dedf2-3f08-4b0d-a11c-125c546835eb",
   "metadata": {},
   "outputs": [],
   "source": []
  },
  {
   "cell_type": "code",
   "execution_count": null,
   "id": "b3f05c88-41ad-4517-a4ec-c673a821ec7a",
   "metadata": {},
   "outputs": [],
   "source": []
  },
  {
   "cell_type": "markdown",
   "id": "d35a569e-f838-460d-bc45-cd27f8370df9",
   "metadata": {},
   "source": [
    "# Comparision"
   ]
  },
  {
   "cell_type": "code",
   "execution_count": 12,
   "id": "c4c69b3b-2fec-454f-ad9c-bd10e7126ac0",
   "metadata": {
    "tags": []
   },
   "outputs": [
    {
     "data": {
      "text/plain": [
       "97"
      ]
     },
     "execution_count": 12,
     "metadata": {},
     "output_type": "execute_result"
    }
   ],
   "source": [
    "ord('a')"
   ]
  },
  {
   "cell_type": "code",
   "execution_count": 15,
   "id": "aa3a4d0d-4ce2-472d-81ac-c48427e884de",
   "metadata": {
    "tags": []
   },
   "outputs": [
    {
     "data": {
      "text/plain": [
       "120"
      ]
     },
     "execution_count": 15,
     "metadata": {},
     "output_type": "execute_result"
    }
   ],
   "source": [
    "ord('x')"
   ]
  },
  {
   "cell_type": "code",
   "execution_count": 13,
   "id": "1cc00112-64f1-4c62-9dfc-19ff57a8fe19",
   "metadata": {
    "tags": []
   },
   "outputs": [
    {
     "data": {
      "text/plain": [
       "'a'"
      ]
     },
     "execution_count": 13,
     "metadata": {},
     "output_type": "execute_result"
    }
   ],
   "source": [
    "chr(97)"
   ]
  },
  {
   "cell_type": "code",
   "execution_count": 14,
   "id": "8621fbc7-4331-4cf0-a538-fb88a39a51ff",
   "metadata": {
    "tags": []
   },
   "outputs": [
    {
     "data": {
      "text/plain": [
       "False"
      ]
     },
     "execution_count": 14,
     "metadata": {},
     "output_type": "execute_result"
    }
   ],
   "source": [
    "'a' > 'x'"
   ]
  },
  {
   "cell_type": "code",
   "execution_count": 16,
   "id": "0fa85d85-dbca-4c36-b7a2-2bb8c33c40ab",
   "metadata": {
    "tags": []
   },
   "outputs": [
    {
     "data": {
      "text/plain": [
       "False"
      ]
     },
     "execution_count": 16,
     "metadata": {},
     "output_type": "execute_result"
    }
   ],
   "source": [
    "'abc' > 'x'"
   ]
  },
  {
   "cell_type": "code",
   "execution_count": 17,
   "id": "53876d2e-b75c-45b7-a4f1-b1d2feea370f",
   "metadata": {
    "tags": []
   },
   "outputs": [
    {
     "data": {
      "text/plain": [
       "True"
      ]
     },
     "execution_count": 17,
     "metadata": {},
     "output_type": "execute_result"
    }
   ],
   "source": [
    "'a' > 'X'"
   ]
  },
  {
   "cell_type": "code",
   "execution_count": 22,
   "id": "f29f1b0f-3630-465b-9270-27fbe5017dc7",
   "metadata": {
    "tags": []
   },
   "outputs": [
    {
     "data": {
      "text/plain": [
       "88"
      ]
     },
     "execution_count": 22,
     "metadata": {},
     "output_type": "execute_result"
    }
   ],
   "source": [
    "ord('X')"
   ]
  },
  {
   "cell_type": "code",
   "execution_count": 19,
   "id": "24edd539-cc1d-44d8-b38f-d77f6985e74f",
   "metadata": {
    "tags": []
   },
   "outputs": [
    {
     "data": {
      "text/plain": [
       "65"
      ]
     },
     "execution_count": 19,
     "metadata": {},
     "output_type": "execute_result"
    }
   ],
   "source": [
    "ord('A')"
   ]
  },
  {
   "cell_type": "code",
   "execution_count": 21,
   "id": "10357c85-b08b-4661-9b42-965ec33d60ec",
   "metadata": {
    "tags": []
   },
   "outputs": [
    {
     "data": {
      "text/plain": [
       "48"
      ]
     },
     "execution_count": 21,
     "metadata": {},
     "output_type": "execute_result"
    }
   ],
   "source": [
    "ord('0')"
   ]
  },
  {
   "cell_type": "code",
   "execution_count": null,
   "id": "f253bd73-9237-4060-8af0-b7834418e871",
   "metadata": {},
   "outputs": [],
   "source": []
  },
  {
   "cell_type": "code",
   "execution_count": null,
   "id": "472ace32-6a7b-4901-9baf-2e87173c524a",
   "metadata": {},
   "outputs": [],
   "source": []
  },
  {
   "cell_type": "code",
   "execution_count": null,
   "id": "cd036c11-e024-4d8a-958f-f5d0f5496239",
   "metadata": {},
   "outputs": [],
   "source": []
  },
  {
   "cell_type": "code",
   "execution_count": null,
   "id": "02226f31-973b-4c9d-8697-4fcd9a503f9c",
   "metadata": {},
   "outputs": [],
   "source": []
  },
  {
   "cell_type": "markdown",
   "id": "507e30b6-3134-48cf-a4f2-af6973140d01",
   "metadata": {},
   "source": [
    "# Function in String"
   ]
  },
  {
   "cell_type": "markdown",
   "id": "4c467b7f-2ac4-4830-9b9d-43ae6d519e23",
   "metadata": {},
   "source": [
    "# len()"
   ]
  },
  {
   "cell_type": "code",
   "execution_count": 23,
   "id": "310bc9d7-bbfb-4a3e-9421-b2238df59d5d",
   "metadata": {
    "tags": []
   },
   "outputs": [
    {
     "data": {
      "text/plain": [
       "2"
      ]
     },
     "execution_count": 23,
     "metadata": {},
     "output_type": "execute_result"
    }
   ],
   "source": [
    "len('  ')"
   ]
  },
  {
   "cell_type": "code",
   "execution_count": 27,
   "id": "e744186a-7193-4ce8-9dc0-84dc217fb419",
   "metadata": {
    "tags": []
   },
   "outputs": [
    {
     "data": {
      "text/plain": [
       "7"
      ]
     },
     "execution_count": 27,
     "metadata": {},
     "output_type": "execute_result"
    }
   ],
   "source": [
    "len('pyt 123')"
   ]
  },
  {
   "cell_type": "markdown",
   "id": "b26d36c6-8663-47a6-b412-e45776f483d3",
   "metadata": {},
   "source": [
    "# ord()"
   ]
  },
  {
   "cell_type": "markdown",
   "id": "7b8a1b6c-bcc3-4fb0-b2df-990a8ad2a8f8",
   "metadata": {},
   "source": [
    "# chr()"
   ]
  },
  {
   "cell_type": "code",
   "execution_count": null,
   "id": "7bd93794-1ec9-4a22-b130-46d65b46dd03",
   "metadata": {},
   "outputs": [],
   "source": []
  },
  {
   "cell_type": "markdown",
   "id": "1a641340-0961-4a6b-8414-2621f5a66301",
   "metadata": {},
   "source": [
    "# max()"
   ]
  },
  {
   "cell_type": "code",
   "execution_count": 24,
   "id": "b70fe3db-0fe6-4c9f-af72-7bd5d5a36386",
   "metadata": {
    "tags": []
   },
   "outputs": [],
   "source": [
    "str2  = 'abc'"
   ]
  },
  {
   "cell_type": "code",
   "execution_count": 25,
   "id": "52b09139-771e-42ef-abce-ac380eeea895",
   "metadata": {
    "tags": []
   },
   "outputs": [
    {
     "data": {
      "text/plain": [
       "'c'"
      ]
     },
     "execution_count": 25,
     "metadata": {},
     "output_type": "execute_result"
    }
   ],
   "source": [
    "max(str2)"
   ]
  },
  {
   "cell_type": "markdown",
   "id": "6447d99e-b3f6-4af6-a0ea-792413c97d0b",
   "metadata": {},
   "source": [
    "# min () "
   ]
  },
  {
   "cell_type": "code",
   "execution_count": 28,
   "id": "ceefd9f8-b012-48d4-9f78-9143407e6d6f",
   "metadata": {
    "tags": []
   },
   "outputs": [
    {
     "data": {
      "text/plain": [
       "'a'"
      ]
     },
     "execution_count": 28,
     "metadata": {},
     "output_type": "execute_result"
    }
   ],
   "source": [
    "min(str2)"
   ]
  },
  {
   "cell_type": "code",
   "execution_count": null,
   "id": "edc9fa8e-a343-474d-9df7-b765cf552db1",
   "metadata": {},
   "outputs": [],
   "source": []
  },
  {
   "cell_type": "code",
   "execution_count": null,
   "id": "3dfcf930-b5f3-4268-8834-706810e7cbcd",
   "metadata": {},
   "outputs": [],
   "source": []
  },
  {
   "cell_type": "code",
   "execution_count": null,
   "id": "9be9c665-df8d-4fac-ab95-a699bf5f59d2",
   "metadata": {},
   "outputs": [],
   "source": []
  },
  {
   "cell_type": "code",
   "execution_count": null,
   "id": "c6001cbd-df71-47e0-a995-d0c88ac7f8bb",
   "metadata": {},
   "outputs": [],
   "source": []
  },
  {
   "cell_type": "markdown",
   "id": "a0705f96-2cae-485c-bc4c-43dd66026985",
   "metadata": {},
   "source": [
    "# Method of String"
   ]
  },
  {
   "cell_type": "markdown",
   "id": "67d5b29f-50d5-495f-b6d2-b47c87b58933",
   "metadata": {},
   "source": [
    "# capitalize"
   ]
  },
  {
   "cell_type": "code",
   "execution_count": 35,
   "id": "5ca2069a-f0f7-479e-8a9c-b2db18ff2e31",
   "metadata": {
    "tags": []
   },
   "outputs": [],
   "source": [
    "str2 = \"i love Python.it is great\""
   ]
  },
  {
   "cell_type": "code",
   "execution_count": 36,
   "id": "15d2b917-1f64-45d2-ade1-9b133c1f1505",
   "metadata": {
    "tags": []
   },
   "outputs": [
    {
     "data": {
      "text/plain": [
       "'I love python.it is great'"
      ]
     },
     "execution_count": 36,
     "metadata": {},
     "output_type": "execute_result"
    }
   ],
   "source": [
    "str2.capitalize()"
   ]
  },
  {
   "cell_type": "code",
   "execution_count": 37,
   "id": "2953917c-c221-48d8-ab1b-a37adb1fc988",
   "metadata": {
    "tags": []
   },
   "outputs": [
    {
     "data": {
      "text/plain": [
       "'Python.java'"
      ]
     },
     "execution_count": 37,
     "metadata": {},
     "output_type": "execute_result"
    }
   ],
   "source": [
    "str3 = \"python.java\"\n",
    "str3.capitalize() "
   ]
  },
  {
   "cell_type": "code",
   "execution_count": 38,
   "id": "809bab4b-a8f6-4f82-b06a-27b45a62066f",
   "metadata": {
    "tags": []
   },
   "outputs": [
    {
     "data": {
      "text/plain": [
       "'python.java'"
      ]
     },
     "execution_count": 38,
     "metadata": {},
     "output_type": "execute_result"
    }
   ],
   "source": [
    "str3"
   ]
  },
  {
   "cell_type": "code",
   "execution_count": null,
   "id": "2f1fb2c7-5d5c-42cc-916a-8db765a1fd67",
   "metadata": {},
   "outputs": [],
   "source": [
    "#for word in sentence:\n",
    "#    word = word.capitalize()\n",
    "\n"
   ]
  },
  {
   "cell_type": "markdown",
   "id": "35c6d449-f6f5-429e-9def-375c111d11bf",
   "metadata": {},
   "source": [
    "# split()\n",
    "\n"
   ]
  },
  {
   "cell_type": "code",
   "execution_count": 39,
   "id": "bcfe577a-a706-405a-b20a-47e5506da826",
   "metadata": {
    "tags": []
   },
   "outputs": [],
   "source": [
    "str3 = \"I love python\""
   ]
  },
  {
   "cell_type": "code",
   "execution_count": null,
   "id": "1a526024-3a59-4e0d-86d0-97cbf34e92e5",
   "metadata": {},
   "outputs": [],
   "source": []
  },
  {
   "cell_type": "code",
   "execution_count": 40,
   "id": "2bcc3bee-0e83-4f3b-86e4-48a086fd923c",
   "metadata": {
    "tags": []
   },
   "outputs": [
    {
     "data": {
      "text/plain": [
       "['I', 'love', 'Python']"
      ]
     },
     "execution_count": 40,
     "metadata": {},
     "output_type": "execute_result"
    }
   ],
   "source": [
    "str3.split()"
   ]
  },
  {
   "cell_type": "code",
   "execution_count": 42,
   "id": "7df8bcc0-6cd3-4144-a22a-88766e027ec9",
   "metadata": {
    "tags": []
   },
   "outputs": [
    {
     "name": "stdout",
     "output_type": "stream",
     "text": [
      "I\n",
      "Love\n",
      "Python\n"
     ]
    }
   ],
   "source": [
    "for word in str3.split():\n",
    "    print(word.capitalize())"
   ]
  },
  {
   "cell_type": "code",
   "execution_count": 43,
   "id": "f15888c5-369b-4d0d-95a2-0c16d41b5cb4",
   "metadata": {
    "tags": []
   },
   "outputs": [
    {
     "data": {
      "text/plain": [
       "['I,love,python']"
      ]
     },
     "execution_count": 43,
     "metadata": {},
     "output_type": "execute_result"
    }
   ],
   "source": [
    "str4 = \"I,love,python\"\n",
    "str4.split()"
   ]
  },
  {
   "cell_type": "code",
   "execution_count": 44,
   "id": "ae6d3064-36f2-484d-bcd8-3420701223d8",
   "metadata": {
    "tags": []
   },
   "outputs": [
    {
     "data": {
      "text/plain": [
       "['I', 'love', 'python']"
      ]
     },
     "execution_count": 44,
     "metadata": {},
     "output_type": "execute_result"
    }
   ],
   "source": [
    "str4.split(',')\n",
    "\n"
   ]
  },
  {
   "cell_type": "markdown",
   "id": "481661ec-45b8-42ad-947d-a787646ed77a",
   "metadata": {},
   "source": [
    "#   sep\n",
    "    The separator used to split the string.\n",
    "\n",
    "    When set to None (the default value), will split on any whitespace\n",
    "    character (including \\\\n \\\\r \\\\t \\\\f and spaces) and will discard\n",
    "    empty strings from the result."
   ]
  },
  {
   "cell_type": "code",
   "execution_count": null,
   "id": "46e478c9-5a3a-4425-9300-ea36a69903b7",
   "metadata": {},
   "outputs": [],
   "source": []
  },
  {
   "cell_type": "code",
   "execution_count": 48,
   "id": "04d7cf7c-2d1b-451a-86ba-3c9249f22ad0",
   "metadata": {
    "tags": []
   },
   "outputs": [
    {
     "name": "stdin",
     "output_type": "stream",
     "text": [
      "enter your name 1,2,3,4,5\n"
     ]
    }
   ],
   "source": [
    "name = input(\"enter your name\")"
   ]
  },
  {
   "cell_type": "code",
   "execution_count": 49,
   "id": "33407ef9-4e06-41af-a904-ef5a6b17205e",
   "metadata": {
    "tags": []
   },
   "outputs": [
    {
     "data": {
      "text/plain": [
       "'1,2,3,4,5'"
      ]
     },
     "execution_count": 49,
     "metadata": {},
     "output_type": "execute_result"
    }
   ],
   "source": [
    "name\n"
   ]
  },
  {
   "cell_type": "code",
   "execution_count": 50,
   "id": "73e225ce-90ba-4a6e-b723-257804923f20",
   "metadata": {
    "tags": []
   },
   "outputs": [
    {
     "data": {
      "text/plain": [
       "['1', '2', '3', '4', '5']"
      ]
     },
     "execution_count": 50,
     "metadata": {},
     "output_type": "execute_result"
    }
   ],
   "source": [
    "name.split(',')"
   ]
  },
  {
   "cell_type": "code",
   "execution_count": 53,
   "id": "f1759ffc-e6ae-43bb-ae45-6eebf19fd368",
   "metadata": {
    "tags": []
   },
   "outputs": [
    {
     "name": "stdin",
     "output_type": "stream",
     "text": [
      "enter your number 1\n"
     ]
    }
   ],
   "source": [
    "name = input(\"enter your number\")"
   ]
  },
  {
   "cell_type": "code",
   "execution_count": null,
   "id": "b8c292c1-9686-4df5-b5dd-151a9bd1c476",
   "metadata": {},
   "outputs": [],
   "source": []
  },
  {
   "cell_type": "code",
   "execution_count": null,
   "id": "6629ffe9-d9a1-4655-83a6-caf1eb34ac0c",
   "metadata": {},
   "outputs": [],
   "source": []
  },
  {
   "cell_type": "markdown",
   "id": "f74e3b46-4dc6-4931-bee5-af7a160d288b",
   "metadata": {},
   "source": [
    "## lower() Upper() title()"
   ]
  },
  {
   "cell_type": "code",
   "execution_count": 54,
   "id": "64cecdab-9564-4b20-bb5f-200ec901b6da",
   "metadata": {
    "tags": []
   },
   "outputs": [],
   "source": [
    "str1 = \"PYTHON\"\n"
   ]
  },
  {
   "cell_type": "code",
   "execution_count": 56,
   "id": "9c781f72-f01f-4b3d-9c81-2b4c796c580f",
   "metadata": {
    "tags": []
   },
   "outputs": [],
   "source": [
    "str2 = str1.lower()"
   ]
  },
  {
   "cell_type": "code",
   "execution_count": 57,
   "id": "9c13523f-28e0-46e2-95ac-ed5204858628",
   "metadata": {
    "tags": []
   },
   "outputs": [
    {
     "data": {
      "text/plain": [
       "'python'"
      ]
     },
     "execution_count": 57,
     "metadata": {},
     "output_type": "execute_result"
    }
   ],
   "source": [
    "str2\n"
   ]
  },
  {
   "cell_type": "code",
   "execution_count": 59,
   "id": "cc3249c0-65d2-4f36-bbf4-6e50b6ac5d3a",
   "metadata": {
    "tags": []
   },
   "outputs": [
    {
     "data": {
      "text/plain": [
       "'PYTHON'"
      ]
     },
     "execution_count": 59,
     "metadata": {},
     "output_type": "execute_result"
    }
   ],
   "source": [
    "str2.upper()"
   ]
  },
  {
   "cell_type": "code",
   "execution_count": 63,
   "id": "43b6f6da-bac8-4dc3-ba87-0d8f65db358a",
   "metadata": {
    "tags": []
   },
   "outputs": [],
   "source": [
    "str3= \"I love pyThon\""
   ]
  },
  {
   "cell_type": "code",
   "execution_count": 64,
   "id": "7ea8319b-ea24-4d29-8035-8a25ef3d541c",
   "metadata": {
    "tags": []
   },
   "outputs": [
    {
     "data": {
      "text/plain": [
       "'I Love Python'"
      ]
     },
     "execution_count": 64,
     "metadata": {},
     "output_type": "execute_result"
    }
   ],
   "source": [
    "str3.title()"
   ]
  },
  {
   "cell_type": "code",
   "execution_count": 65,
   "id": "9f23341c-5ca7-467f-b0a1-e89d23a703f1",
   "metadata": {
    "tags": []
   },
   "outputs": [],
   "source": [
    "str4= \" i LOVE pYtHoN\""
   ]
  },
  {
   "cell_type": "code",
   "execution_count": 66,
   "id": "3bdb541f-e6b5-439f-92fd-9e309a53149b",
   "metadata": {
    "tags": []
   },
   "outputs": [
    {
     "data": {
      "text/plain": [
       "' I love PyThOn'"
      ]
     },
     "execution_count": 66,
     "metadata": {},
     "output_type": "execute_result"
    }
   ],
   "source": [
    "str4.swapcase()"
   ]
  },
  {
   "cell_type": "code",
   "execution_count": null,
   "id": "bb03398c-91cc-4093-a844-a4d84b2ed99b",
   "metadata": {},
   "outputs": [],
   "source": []
  },
  {
   "cell_type": "code",
   "execution_count": null,
   "id": "6337c68f-e4ca-4c04-8e80-c875d9c2a566",
   "metadata": {},
   "outputs": [],
   "source": []
  },
  {
   "cell_type": "markdown",
   "id": "545715f6-8d99-4676-a043-8f76fd145ed8",
   "metadata": {
    "tags": []
   },
   "source": [
    "# islower() isupper() isalpha isalnum "
   ]
  },
  {
   "cell_type": "code",
   "execution_count": 68,
   "id": "63fc9e8e-61d9-4d95-a14e-511fba3c9f42",
   "metadata": {
    "tags": []
   },
   "outputs": [],
   "source": [
    "str1 = \"python\""
   ]
  },
  {
   "cell_type": "code",
   "execution_count": 69,
   "id": "11365d00-699e-438b-914c-081575630af0",
   "metadata": {
    "tags": []
   },
   "outputs": [
    {
     "data": {
      "text/plain": [
       "True"
      ]
     },
     "execution_count": 69,
     "metadata": {},
     "output_type": "execute_result"
    }
   ],
   "source": [
    "str1.islower()"
   ]
  },
  {
   "cell_type": "code",
   "execution_count": 70,
   "id": "2f7b7068-69d9-49d0-99ed-7b1ec242a6eb",
   "metadata": {
    "tags": []
   },
   "outputs": [
    {
     "data": {
      "text/plain": [
       "False"
      ]
     },
     "execution_count": 70,
     "metadata": {},
     "output_type": "execute_result"
    }
   ],
   "source": [
    "str1.isupper()"
   ]
  },
  {
   "cell_type": "code",
   "execution_count": 71,
   "id": "444a29d8-4638-459d-81b1-242316764fc2",
   "metadata": {
    "tags": []
   },
   "outputs": [
    {
     "data": {
      "text/plain": [
       "True"
      ]
     },
     "execution_count": 71,
     "metadata": {},
     "output_type": "execute_result"
    }
   ],
   "source": [
    "str1.isalnum()\n",
    "\n",
    "#a-z\n",
    "#A-Z\n",
    "# 0-9"
   ]
  },
  {
   "cell_type": "code",
   "execution_count": 72,
   "id": "07a5fd8f-87cb-4945-84ef-d7c3d3a14d1b",
   "metadata": {
    "tags": []
   },
   "outputs": [],
   "source": [
    "str2 = \"p t h\""
   ]
  },
  {
   "cell_type": "code",
   "execution_count": 73,
   "id": "eb61542e-1a45-493c-af26-baf13ac917db",
   "metadata": {
    "tags": []
   },
   "outputs": [
    {
     "data": {
      "text/plain": [
       "False"
      ]
     },
     "execution_count": 73,
     "metadata": {},
     "output_type": "execute_result"
    }
   ],
   "source": [
    "str2.isalnum()"
   ]
  },
  {
   "cell_type": "code",
   "execution_count": 77,
   "id": "b67b3c2c-a49a-4b58-942b-be9d7bfa8ff9",
   "metadata": {
    "tags": []
   },
   "outputs": [
    {
     "data": {
      "text/plain": [
       "False"
      ]
     },
     "execution_count": 77,
     "metadata": {},
     "output_type": "execute_result"
    }
   ],
   "source": [
    "str4= \"abcAABSBOBVSOB&*\"\n",
    "str4.isalpha()"
   ]
  },
  {
   "cell_type": "markdown",
   "id": "4e84ac1a-c67d-4950-9f5a-a7d9e8b201f6",
   "metadata": {
    "tags": []
   },
   "source": [
    "# isdigit()"
   ]
  },
  {
   "cell_type": "code",
   "execution_count": 79,
   "id": "707d7d7e-aa25-4ed3-b729-ebc3d8934fa2",
   "metadata": {
    "tags": []
   },
   "outputs": [
    {
     "data": {
      "text/plain": [
       "False"
      ]
     },
     "execution_count": 79,
     "metadata": {},
     "output_type": "execute_result"
    }
   ],
   "source": [
    "str4.isdigit()"
   ]
  },
  {
   "cell_type": "code",
   "execution_count": 83,
   "id": "4c2f8047-8622-4fc2-8dee-9391ec942a77",
   "metadata": {
    "tags": []
   },
   "outputs": [
    {
     "data": {
      "text/plain": [
       "True"
      ]
     },
     "execution_count": 83,
     "metadata": {},
     "output_type": "execute_result"
    }
   ],
   "source": [
    "str4= \"123\"\n",
    "str4.isdecimal()"
   ]
  },
  {
   "cell_type": "code",
   "execution_count": 84,
   "id": "e3318e45-bd71-4b29-b08c-beefd565ba4d",
   "metadata": {
    "tags": []
   },
   "outputs": [
    {
     "data": {
      "text/plain": [
       "False"
      ]
     },
     "execution_count": 84,
     "metadata": {},
     "output_type": "execute_result"
    }
   ],
   "source": [
    "str2=\"p t h\"\n",
    "str2.isalnum()\n"
   ]
  },
  {
   "cell_type": "markdown",
   "id": "3ef1f0a5-995e-4df5-8583-fdb4b454a339",
   "metadata": {},
   "source": [
    "# isspace() Return True if the string is a whitespace string, False otherwise.\n",
    "\n",
    "A string is whitespace if all characters in the string are whitespace and there\n",
    "is at least one character in the string."
   ]
  },
  {
   "cell_type": "code",
   "execution_count": 87,
   "id": "8fd64169-cde7-4369-b922-a9568ef9d5b9",
   "metadata": {
    "tags": []
   },
   "outputs": [
    {
     "data": {
      "text/plain": [
       "False"
      ]
     },
     "execution_count": 87,
     "metadata": {},
     "output_type": "execute_result"
    }
   ],
   "source": [
    "str2=\" a \"\n",
    "\n",
    "\n",
    "str2.isspace()"
   ]
  },
  {
   "cell_type": "code",
   "execution_count": 89,
   "id": "bd813307-4582-4d06-af21-f905af391996",
   "metadata": {
    "tags": []
   },
   "outputs": [
    {
     "data": {
      "text/plain": [
       "True"
      ]
     },
     "execution_count": 89,
     "metadata": {},
     "output_type": "execute_result"
    }
   ],
   "source": [
    "str3= \"  \"\n",
    "str3.isspace()"
   ]
  },
  {
   "cell_type": "code",
   "execution_count": 90,
   "id": "412865ed-fab7-425a-9ad8-70683ba1e316",
   "metadata": {
    "tags": []
   },
   "outputs": [
    {
     "data": {
      "text/plain": [
       "False"
      ]
     },
     "execution_count": 90,
     "metadata": {},
     "output_type": "execute_result"
    }
   ],
   "source": [
    "str4=\"\"\n",
    "str4.isspace()"
   ]
  },
  {
   "cell_type": "code",
   "execution_count": 103,
   "id": "5adcca43-a377-45bd-81f2-c6703829031a",
   "metadata": {
    "tags": []
   },
   "outputs": [
    {
     "data": {
      "text/plain": [
       "False"
      ]
     },
     "execution_count": 103,
     "metadata": {},
     "output_type": "execute_result"
    }
   ],
   "source": [
    "test=\"python\"+str(\"\\n\")\n",
    "test.isspace()"
   ]
  },
  {
   "cell_type": "markdown",
   "id": "855cc81b-6663-4e85-8ae2-3f43d98007d9",
   "metadata": {},
   "source": [
    "# startswith endswith"
   ]
  },
  {
   "cell_type": "code",
   "execution_count": 92,
   "id": "4ffa5fb4-5f38-4f9b-8971-134f66ef79b1",
   "metadata": {
    "tags": []
   },
   "outputs": [],
   "source": [
    "text = \"i love Machine Learning\""
   ]
  },
  {
   "cell_type": "code",
   "execution_count": 93,
   "id": "194685a5-fbcc-43e4-9e22-29d281cbdfa2",
   "metadata": {
    "tags": []
   },
   "outputs": [
    {
     "data": {
      "text/plain": [
       "True"
      ]
     },
     "execution_count": 93,
     "metadata": {},
     "output_type": "execute_result"
    }
   ],
   "source": [
    "text.startswith(\"i\")"
   ]
  },
  {
   "cell_type": "code",
   "execution_count": 94,
   "id": "62da5ada-c512-434c-9823-a08a6d193bd0",
   "metadata": {
    "tags": []
   },
   "outputs": [
    {
     "data": {
      "text/plain": [
       "False"
      ]
     },
     "execution_count": 94,
     "metadata": {},
     "output_type": "execute_result"
    }
   ],
   "source": [
    "text.startswith(\"I\")"
   ]
  },
  {
   "cell_type": "code",
   "execution_count": 95,
   "id": "7258ed07-d888-4bc6-8a86-014334d1739b",
   "metadata": {
    "tags": []
   },
   "outputs": [
    {
     "data": {
      "text/plain": [
       "True"
      ]
     },
     "execution_count": 95,
     "metadata": {},
     "output_type": "execute_result"
    }
   ],
   "source": [
    "text.endswith(\"Learning\")"
   ]
  },
  {
   "cell_type": "markdown",
   "id": "9cfe615b-4fe4-4b3f-b69c-324705681ad7",
   "metadata": {},
   "source": [
    "# count()"
   ]
  },
  {
   "cell_type": "code",
   "execution_count": 104,
   "id": "131c0119-eac9-4712-bb6e-a340421675ba",
   "metadata": {
    "tags": []
   },
   "outputs": [],
   "source": [
    "text = \"I love python, it is amazing. is great, is best\""
   ]
  },
  {
   "cell_type": "code",
   "execution_count": 105,
   "id": "868518eb-2e62-47bb-a705-4622bb1425c9",
   "metadata": {
    "tags": []
   },
   "outputs": [
    {
     "data": {
      "text/plain": [
       "3"
      ]
     },
     "execution_count": 105,
     "metadata": {},
     "output_type": "execute_result"
    }
   ],
   "source": [
    "text.count('is')"
   ]
  },
  {
   "cell_type": "markdown",
   "id": "706ef81a-89ad-43c0-ac9d-9c38ca27a235",
   "metadata": {
    "tags": []
   },
   "source": [
    "# join()"
   ]
  },
  {
   "cell_type": "code",
   "execution_count": 115,
   "id": "60970855-7557-469f-9061-beeb2c1e1ccd",
   "metadata": {
    "tags": []
   },
   "outputs": [],
   "source": [
    "l2 = [\"mayank\",\"aggarwal\"]"
   ]
  },
  {
   "cell_type": "markdown",
   "id": "9e71d1f6-0bf1-47b7-996f-77792ec38844",
   "metadata": {},
   "source": [
    "Concatenate any number of strings.\n",
    "\n",
    "The string whose method is called is inserted in between each given string.\n",
    "The result is returned as a new string.\n",
    "\n",
    "Example: '.'.join(['ab', 'pq', 'rs']) -> 'ab.pq.rs'"
   ]
  },
  {
   "cell_type": "code",
   "execution_count": 116,
   "id": "93ccd4cb-7b04-48b5-87f1-2a934dfd69b4",
   "metadata": {
    "tags": []
   },
   "outputs": [
    {
     "data": {
      "text/plain": [
       "'mayank aggarwal'"
      ]
     },
     "execution_count": 116,
     "metadata": {},
     "output_type": "execute_result"
    }
   ],
   "source": [
    "\n",
    "\" \".join(l2)"
   ]
  },
  {
   "cell_type": "code",
   "execution_count": 117,
   "id": "2c15f60a-cf6a-499e-8e5a-f50ecc55bbba",
   "metadata": {
    "tags": []
   },
   "outputs": [
    {
     "data": {
      "text/plain": [
       "'m a y   a n k'"
      ]
     },
     "execution_count": 117,
     "metadata": {},
     "output_type": "execute_result"
    }
   ],
   "source": [
    "\" \".join(\"may ank\")"
   ]
  },
  {
   "cell_type": "code",
   "execution_count": 118,
   "id": "b4b95958-4472-4422-91bf-ea1de5ebe275",
   "metadata": {
    "tags": []
   },
   "outputs": [
    {
     "data": {
      "text/plain": [
       "'m@a@y@ @a@n@k'"
      ]
     },
     "execution_count": 118,
     "metadata": {},
     "output_type": "execute_result"
    }
   ],
   "source": [
    "\"@\".join(\"may ank\")"
   ]
  },
  {
   "cell_type": "code",
   "execution_count": 111,
   "id": "67272981-05b5-45e8-b91c-f8e95f6e9987",
   "metadata": {
    "tags": []
   },
   "outputs": [],
   "source": [
    "l3 = [\" mayank\",\"aggarwal\"]"
   ]
  },
  {
   "cell_type": "code",
   "execution_count": 112,
   "id": "b189182f-8d38-480e-b248-93d3a3d54fce",
   "metadata": {
    "tags": []
   },
   "outputs": [
    {
     "data": {
      "text/plain": [
       "' mayank aggarwal'"
      ]
     },
     "execution_count": 112,
     "metadata": {},
     "output_type": "execute_result"
    }
   ],
   "source": [
    "\" \".join(l3)"
   ]
  },
  {
   "cell_type": "code",
   "execution_count": 113,
   "id": "1cf3a3b7-9ce5-4eae-a3a0-2a410f18d111",
   "metadata": {
    "tags": []
   },
   "outputs": [
    {
     "data": {
      "text/plain": [
       "'a@b@c'"
      ]
     },
     "execution_count": 113,
     "metadata": {},
     "output_type": "execute_result"
    }
   ],
   "source": [
    "\"@\".join(\"abc\")"
   ]
  },
  {
   "cell_type": "code",
   "execution_count": 114,
   "id": "690e75f0-c725-4341-a696-04396d1f6df0",
   "metadata": {
    "tags": []
   },
   "outputs": [
    {
     "data": {
      "text/plain": [
       "'a123b123c'"
      ]
     },
     "execution_count": 114,
     "metadata": {},
     "output_type": "execute_result"
    }
   ],
   "source": [
    "\"123\".join(\"abc\")"
   ]
  },
  {
   "cell_type": "code",
   "execution_count": null,
   "id": "a1ecbd6a-364d-4893-bead-2e32e7f9ad27",
   "metadata": {},
   "outputs": [],
   "source": []
  },
  {
   "cell_type": "code",
   "execution_count": null,
   "id": "ec356549-c280-4faa-960f-39c395c7ecfc",
   "metadata": {},
   "outputs": [],
   "source": []
  },
  {
   "cell_type": "markdown",
   "id": "d76276f3-0b4f-40f7-8fe9-d6c8f31fb1a0",
   "metadata": {},
   "source": [
    "# f- string\n",
    "# string interpolation "
   ]
  },
  {
   "cell_type": "code",
   "execution_count": null,
   "id": "5ebfa0c6-361a-4f91-8cae-7f04c813b434",
   "metadata": {
    "tags": []
   },
   "outputs": [],
   "source": []
  },
  {
   "cell_type": "code",
   "execution_count": 120,
   "id": "865b6b1c-09fe-4361-9fb3-825e1f420783",
   "metadata": {
    "tags": []
   },
   "outputs": [],
   "source": [
    "a = 10\n",
    "b =20"
   ]
  },
  {
   "cell_type": "code",
   "execution_count": 121,
   "id": "cc9e88f6-cb8c-44be-8e69-6d720fb7ec4a",
   "metadata": {
    "tags": []
   },
   "outputs": [
    {
     "name": "stdout",
     "output_type": "stream",
     "text": [
      "my number is a and b\n"
     ]
    }
   ],
   "source": [
    "print(\"my number is a and b\") "
   ]
  },
  {
   "cell_type": "code",
   "execution_count": 122,
   "id": "8b30902f-bda8-4463-9499-cfd89d8f98c2",
   "metadata": {
    "tags": []
   },
   "outputs": [
    {
     "name": "stdout",
     "output_type": "stream",
     "text": [
      "my number is 10 and 20\n"
     ]
    }
   ],
   "source": [
    "print(f\"my number is {a} and {b}\") "
   ]
  },
  {
   "cell_type": "code",
   "execution_count": 123,
   "id": "e5c2e652-67e2-4cd1-9eb7-41faec0fd48f",
   "metadata": {
    "tags": []
   },
   "outputs": [
    {
     "name": "stdout",
     "output_type": "stream",
     "text": [
      "my number is 10 and 20\n"
     ]
    }
   ],
   "source": [
    "print(\"my number is %d and %d\" %(a,b))"
   ]
  },
  {
   "cell_type": "code",
   "execution_count": 125,
   "id": "0b8e2888-fd1e-4980-871f-e2bd25b5388e",
   "metadata": {
    "tags": []
   },
   "outputs": [
    {
     "name": "stdout",
     "output_type": "stream",
     "text": [
      "my number is 10 and 20\n"
     ]
    }
   ],
   "source": [
    "print(\"my number is {} and {}\".format(a,b))"
   ]
  },
  {
   "cell_type": "code",
   "execution_count": 126,
   "id": "a732fe4b-065f-4f54-8acd-34742f77e06c",
   "metadata": {
    "tags": []
   },
   "outputs": [
    {
     "name": "stdout",
     "output_type": "stream",
     "text": [
      "my number is 10 and 20\n"
     ]
    }
   ],
   "source": [
    "print(\"my number is {first} and {second}\".format(first= a,second=b))"
   ]
  },
  {
   "cell_type": "code",
   "execution_count": 127,
   "id": "bdbe1628-5eac-4896-8938-00cc92221fb3",
   "metadata": {
    "tags": []
   },
   "outputs": [
    {
     "name": "stdout",
     "output_type": "stream",
     "text": [
      "my number is 10 and 20\n"
     ]
    }
   ],
   "source": [
    "print(f\"my number is {a} and {b}\")"
   ]
  },
  {
   "cell_type": "code",
   "execution_count": 128,
   "id": "e073ca00-ec66-4a6a-9ca3-35b8029e923f",
   "metadata": {
    "tags": []
   },
   "outputs": [
    {
     "name": "stdout",
     "output_type": "stream",
     "text": [
      "my name is mayank agg\n"
     ]
    }
   ],
   "source": [
    "firstname = \"mayank\"\n",
    "lastname = \"agg\"\n",
    "\n",
    "print(f\"my name is {firstname} {lastname}\")"
   ]
  }
 ],
 "metadata": {
  "kernelspec": {
   "display_name": "Python 3 (ipykernel)",
   "language": "python",
   "name": "python3"
  },
  "language_info": {
   "codemirror_mode": {
    "name": "ipython",
    "version": 3
   },
   "file_extension": ".py",
   "mimetype": "text/x-python",
   "name": "python",
   "nbconvert_exporter": "python",
   "pygments_lexer": "ipython3",
   "version": "3.11.5"
  }
 },
 "nbformat": 4,
 "nbformat_minor": 5
}
